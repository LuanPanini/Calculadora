{
  "nbformat": 4,
  "nbformat_minor": 0,
  "metadata": {
    "colab": {
      "provenance": [],
      "authorship_tag": "ABX9TyPyzi4esVY46lymEDJC8i4+",
      "include_colab_link": true
    },
    "kernelspec": {
      "name": "python3",
      "display_name": "Python 3"
    },
    "language_info": {
      "name": "python"
    }
  },
  "cells": [
    {
      "cell_type": "markdown",
      "metadata": {
        "id": "view-in-github",
        "colab_type": "text"
      },
      "source": [
        "<a href=\"https://colab.research.google.com/github/LuanPanini/Calculadora/blob/master/Aula_de_python.ipynb\" target=\"_parent\"><img src=\"https://colab.research.google.com/assets/colab-badge.svg\" alt=\"Open In Colab\"/></a>"
      ]
    },
    {
      "cell_type": "code",
      "source": [
        "#Criando uma variavel nome\n",
        "nome = \"Luan\"\n",
        "print (nome)"
      ],
      "metadata": {
        "colab": {
          "base_uri": "https://localhost:8080/"
        },
        "id": "bI-aPCEvoXSV",
        "outputId": "f97d96a3-564a-472f-820c-ebccaf3aed20"
      },
      "execution_count": 4,
      "outputs": [
        {
          "output_type": "stream",
          "name": "stdout",
          "text": [
            "Luan\n"
          ]
        }
      ]
    },
    {
      "cell_type": "code",
      "source": [
        "idade = 28\n",
        "idade"
      ],
      "metadata": {
        "collapsed": true,
        "id": "2KiUg-GdpJxZ"
      },
      "execution_count": null,
      "outputs": []
    },
    {
      "cell_type": "code",
      "source": [
        "#Criando uma função que soma +1 a idade\n",
        "def mais_um_ano(idade):\n",
        "  print (\"esta dentro dessa funcao\")\n",
        "  return idade +  1"
      ],
      "metadata": {
        "id": "JtxrDqxypj7A"
      },
      "execution_count": 11,
      "outputs": []
    },
    {
      "cell_type": "code",
      "source": [
        "#Chamando a função\n",
        "mais_um_ano(29)"
      ],
      "metadata": {
        "id": "p8Bh0JI_qIF5"
      },
      "execution_count": null,
      "outputs": []
    },
    {
      "cell_type": "code",
      "source": [
        "#Criando uma lista\n",
        "filmes = [\"Matrix\", \"Vingadores\", \"Tubarão\"]\n",
        "filmes"
      ],
      "metadata": {
        "id": "kaS6b6JrqNMh"
      },
      "execution_count": null,
      "outputs": []
    },
    {
      "cell_type": "code",
      "source": [
        "#Para imprimir cada filme em sua linha\n",
        "for filme in filmes:\n",
        "  print(filme)"
      ],
      "metadata": {
        "id": "kB0Z-rGLr7TC"
      },
      "execution_count": null,
      "outputs": []
    },
    {
      "cell_type": "code",
      "source": [
        "#Criando um dicionario utilizando os {}, coloca o nome que a variavel vai receber e depois seguido de : o valor que ele vai ter\n",
        "dados = {\"nome\":\"Luan Panini\",\n",
        "         \"idade\": 28,\n",
        "         \"empresa\":\"Microsoft\"}\n",
        "dados"
      ],
      "metadata": {
        "id": "wCSvtAzCunDO"
      },
      "execution_count": null,
      "outputs": []
    },
    {
      "cell_type": "code",
      "source": [
        "#Chamando um valor de um dicionario, utiliza se [], colocando entre \"\" o nome do campo observando o exemplo criado acima vou chamar o campo idade\n",
        "dados[\"idade\"]"
      ],
      "metadata": {
        "id": "-tgO0e8CwR9O"
      },
      "execution_count": null,
      "outputs": []
    },
    {
      "cell_type": "code",
      "source": [],
      "metadata": {
        "id": "w44i65f6yIqZ"
      },
      "execution_count": null,
      "outputs": []
    },
    {
      "cell_type": "code",
      "source": [],
      "metadata": {
        "id": "xEjwYB68yJSw"
      },
      "execution_count": null,
      "outputs": []
    },
    {
      "cell_type": "code",
      "source": [],
      "metadata": {
        "id": "Zyh8rt5Qw6kn"
      },
      "execution_count": null,
      "outputs": []
    }
  ]
}