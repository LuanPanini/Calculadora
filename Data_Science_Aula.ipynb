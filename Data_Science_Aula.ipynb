{
  "nbformat": 4,
  "nbformat_minor": 0,
  "metadata": {
    "colab": {
      "provenance": [],
      "authorship_tag": "ABX9TyOuwuUuHd2jD7n0Cs+iTa8f",
      "include_colab_link": true
    },
    "kernelspec": {
      "name": "python3",
      "display_name": "Python 3"
    },
    "language_info": {
      "name": "python"
    }
  },
  "cells": [
    {
      "cell_type": "markdown",
      "metadata": {
        "id": "view-in-github",
        "colab_type": "text"
      },
      "source": [
        "<a href=\"https://colab.research.google.com/github/LuanPanini/Calculadora/blob/master/Data_Science_Aula.ipynb\" target=\"_parent\"><img src=\"https://colab.research.google.com/assets/colab-badge.svg\" alt=\"Open In Colab\"/></a>"
      ]
    },
    {
      "cell_type": "code",
      "execution_count": null,
      "metadata": {
        "id": "ju0H-tRqyN3i"
      },
      "outputs": [],
      "source": [
        "#Importando uma biblioteca que permite buscar informações na internet e entender arquivos\n",
        "import pandas as pd # as é comentar uma variavel como no SQL\n",
        "\n",
        "#Passando o comando da url para o pandas trazer a resposta da localização que deseja\n",
        "uri = \"https://raw.githubusercontent.com/alura-cursos/introducao-a-data-science/master/aula4.1/movies.csv\"\n",
        "filmes = pd.read_csv(uri) #Read = leia o arquivo... csv = formato do arquivo dataFrame\n",
        "\n",
        "filmes.head(3) #HEAD Mostra somente os 5 primeiros registros se vazio, caso queira informar a quantidade coloque o valor entre parenteses\n",
        ""
      ]
    },
    {
      "cell_type": "code",
      "source": [
        "#Renomeando as os titulos\n",
        "filmes.columns = [\"filmeId\", \"titulo\",\"generos\"]\n",
        "filmes.head(3)"
      ],
      "metadata": {
        "id": "uJk94vt-0nxr"
      },
      "execution_count": null,
      "outputs": []
    },
    {
      "cell_type": "code",
      "source": [
        "uri = \"https://raw.githubusercontent.com/alura-cursos/introducao-a-data-science/master/aula1.2/ratings.csv\"\n",
        "notas = pd.read_csv(uri)\n",
        "notas.columns = [\"UsuarioId\", \"filmeId\", \"nota\",\"momento\"]\n",
        "notas.head(3)"
      ],
      "metadata": {
        "id": "GZDKNsZp2Hwv"
      },
      "execution_count": null,
      "outputs": []
    },
    {
      "cell_type": "code",
      "source": [
        "#Mostrando somente uma coluna da tabela\n",
        "notas[\"nota\"].head(5) #Chamado de series\n"
      ],
      "metadata": {
        "id": "7Kl9lmdC2lEu"
      },
      "execution_count": null,
      "outputs": []
    },
    {
      "cell_type": "code",
      "source": [
        "#Quais sao as unicas notas que foram apontadas em todo arquivo\n",
        "notas[\"nota\"].unique()"
      ],
      "metadata": {
        "id": "vcFdOC3N4ApT"
      },
      "execution_count": null,
      "outputs": []
    },
    {
      "cell_type": "code",
      "source": [
        "notas[\"nota\"].mean() #Verificando a média\n",
        "notas[\"nota\"].min() #Verificando a minimo\n",
        "notas[\"nota\"].max() #Verificando a maximo\n",
        "notas[\"nota\"].describe() #Descrve varias analises como Contagem, media, minimo, maximo, mediana."
      ],
      "metadata": {
        "id": "aeQOxLcc4KCA"
      },
      "execution_count": null,
      "outputs": []
    },
    {
      "cell_type": "code",
      "source": [],
      "metadata": {
        "id": "toJZxbFO7eg_"
      },
      "execution_count": null,
      "outputs": []
    }
  ]
}